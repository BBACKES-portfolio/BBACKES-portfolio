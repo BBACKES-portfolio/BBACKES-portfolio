{
 "cells": [
  {
   "cell_type": "markdown",
   "id": "520dd31b",
   "metadata": {},
   "source": [
    "# H1: Data Science Tools and Ecosystem"
   ]
  },
  {
   "cell_type": "markdown",
   "id": "5fff8cc7",
   "metadata": {},
   "source": [
    "__In this notebook, Data Science Tools and Ecosystem are summarized.__\n",
    "\n",
    "__Objectives:__\n",
    "\n",
    "* Some of the popular languages that Data Scientists\n",
    "* Some of the commonly used libraries used by Data Scientists\n",
    "* Data Science Tools\n",
    "* arithmetic expression to mutiply then add integers\n",
    "\n"
   ]
  },
  {
   "cell_type": "markdown",
   "id": "11dae782",
   "metadata": {},
   "source": [
    "Some of the popular languages that Data Scientists use are:\n",
    "    \n",
    "    - Python\n",
    "    - R\n",
    "    - Scala\n",
    "    - Java"
   ]
  },
  {
   "cell_type": "markdown",
   "id": "2467a19d",
   "metadata": {},
   "source": [
    "Some of the commonly used libraries used by Data Scientists include:\n",
    "    \n",
    "    - TensorFlow\n",
    "    - Numpy\n",
    "    - SciPy\n",
    "    - Pandas\n",
    "    - Matplotlib"
   ]
  },
  {
   "cell_type": "markdown",
   "id": "1b6917e2",
   "metadata": {},
   "source": [
    "| Data Science Tools |\n",
    "| -------------|\n",
    "| RStudio |\n",
    "| Jupyter Notebook |\n",
    "| Microsoft Visual Studio |"
   ]
  },
  {
   "cell_type": "markdown",
   "id": "b7668490",
   "metadata": {},
   "source": [
    "# H3: Below are a few examples of evaluating arithmetic expressions in Python"
   ]
  },
  {
   "cell_type": "code",
   "execution_count": 6,
   "id": "7af29d3b",
   "metadata": {},
   "outputs": [
    {
     "data": {
      "text/plain": [
       "17"
      ]
     },
     "execution_count": 6,
     "metadata": {},
     "output_type": "execute_result"
    }
   ],
   "source": [
    "# This a simple arithmetic expression to mutiply then add integers\n",
    "\n",
    "(3*4)+5"
   ]
  },
  {
   "cell_type": "code",
   "execution_count": 7,
   "id": "70d98933",
   "metadata": {},
   "outputs": [
    {
     "data": {
      "text/plain": [
       "3.3333333333333335"
      ]
     },
     "execution_count": 7,
     "metadata": {},
     "output_type": "execute_result"
    }
   ],
   "source": [
    "#This will convert 200 minutes to hours by diving by 60\n",
    "\n",
    "200/60"
   ]
  },
  {
   "cell_type": "markdown",
   "id": "2f6b95ac",
   "metadata": {},
   "source": [
    "# H2: Author\n",
    "Bruno"
   ]
  },
  {
   "cell_type": "code",
   "execution_count": null,
   "id": "e824e262",
   "metadata": {},
   "outputs": [],
   "source": []
  }
 ],
 "metadata": {
  "kernelspec": {
   "display_name": "Python 3 (ipykernel)",
   "language": "python",
   "name": "python3"
  },
  "language_info": {
   "codemirror_mode": {
    "name": "ipython",
    "version": 3
   },
   "file_extension": ".py",
   "mimetype": "text/x-python",
   "name": "python",
   "nbconvert_exporter": "python",
   "pygments_lexer": "ipython3",
   "version": "3.10.9"
  }
 },
 "nbformat": 4,
 "nbformat_minor": 5
}
